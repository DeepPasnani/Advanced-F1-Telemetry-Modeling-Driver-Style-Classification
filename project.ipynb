{
 "cells": [
  {
   "cell_type": "code",
   "execution_count": 1,
   "id": "85c5dbcb",
   "metadata": {},
   "outputs": [],
   "source": [
    "# Race Performance Modeling & Driver Behavior Clustering in F1 Telemetry\n",
    "# --------------------------------------------------------"
   ]
  },
  {
   "cell_type": "code",
   "execution_count": 2,
   "id": "9c2b1be7",
   "metadata": {},
   "outputs": [],
   "source": [
    "# 1. Set Up Environment\n",
    "import fastf1\n",
    "from fastf1 import plotting\n",
    "from fastf1.core import Laps\n",
    "import pandas as pd\n",
    "import numpy as np\n",
    "import matplotlib.pyplot as plt\n",
    "import seaborn as sns\n",
    "from sklearn.preprocessing import StandardScaler\n",
    "from sklearn.cluster import KMeans\n",
    "from sklearn.ensemble import RandomForestRegressor"
   ]
  },
  {
   "cell_type": "code",
   "execution_count": 4,
   "id": "95c4fcd8",
   "metadata": {},
   "outputs": [],
   "source": [
    "# Enable cache\n",
    "fastf1.Cache.enable_cache('./cache')"
   ]
  },
  {
   "cell_type": "code",
   "execution_count": 5,
   "id": "483736f2",
   "metadata": {},
   "outputs": [
    {
     "name": "stderr",
     "output_type": "stream",
     "text": [
      "core           INFO \tLoading data for Italian Grand Prix - Qualifying [v3.6.1]\n",
      "req            INFO \tNo cached data found for session_info. Loading data...\n",
      "_api           INFO \tFetching session info data...\n",
      "req            INFO \tData has been written to cache!\n",
      "req            INFO \tNo cached data found for driver_info. Loading data...\n",
      "_api           INFO \tFetching driver list...\n",
      "req            INFO \tData has been written to cache!\n",
      "req            INFO \tNo cached data found for session_status_data. Loading data...\n",
      "_api           INFO \tFetching session status data...\n",
      "req            INFO \tData has been written to cache!\n",
      "req            INFO \tNo cached data found for track_status_data. Loading data...\n",
      "_api           INFO \tFetching track status data...\n",
      "req            INFO \tData has been written to cache!\n",
      "req            INFO \tNo cached data found for _extended_timing_data. Loading data...\n",
      "_api           INFO \tFetching timing data...\n",
      "_api           INFO \tParsing timing data...\n",
      "req            INFO \tData has been written to cache!\n",
      "req            INFO \tNo cached data found for timing_app_data. Loading data...\n",
      "_api           INFO \tFetching timing app data...\n",
      "req            INFO \tData has been written to cache!\n",
      "core           INFO \tProcessing timing data...\n",
      "req            INFO \tNo cached data found for car_data. Loading data...\n",
      "_api           INFO \tFetching car data...\n",
      "_api           INFO \tParsing car data...\n",
      "req            INFO \tData has been written to cache!\n",
      "req            INFO \tNo cached data found for position_data. Loading data...\n",
      "_api           INFO \tFetching position data...\n",
      "_api           INFO \tParsing position data...\n",
      "req            INFO \tData has been written to cache!\n",
      "req            INFO \tNo cached data found for weather_data. Loading data...\n",
      "_api           INFO \tFetching weather data...\n",
      "req            INFO \tData has been written to cache!\n",
      "req            INFO \tNo cached data found for race_control_messages. Loading data...\n",
      "_api           INFO \tFetching race control messages...\n",
      "req            INFO \tData has been written to cache!\n",
      "core           INFO \tFinished loading data for 20 drivers: ['55', '1', '16', '63', '11', '23', '81', '44', '4', '14', '22', '40', '27', '77', '2', '24', '10', '31', '20', '18']\n"
     ]
    }
   ],
   "source": [
    "# 2. Driver & Lap Selection\n",
    "session = fastf1.get_session(2023, 'Monza', 'Q')\n",
    "session.load()"
   ]
  },
  {
   "cell_type": "code",
   "execution_count": 6,
   "id": "d4e4d077",
   "metadata": {},
   "outputs": [
    {
     "name": "stderr",
     "output_type": "stream",
     "text": [
      "core           INFO \tLoading data for Italian Grand Prix - Qualifying [v3.6.1]\n",
      "req            INFO \tUsing cached data for session_info\n",
      "req            INFO \tUsing cached data for driver_info\n",
      "req            INFO \tUsing cached data for session_status_data\n",
      "req            INFO \tUsing cached data for track_status_data\n",
      "req            INFO \tUsing cached data for _extended_timing_data\n",
      "req            INFO \tUsing cached data for timing_app_data\n",
      "core           INFO \tProcessing timing data...\n",
      "req            INFO \tUsing cached data for car_data\n",
      "req            INFO \tUsing cached data for position_data\n",
      "req            INFO \tUsing cached data for weather_data\n",
      "req            INFO \tUsing cached data for race_control_messages\n",
      "core           INFO \tFinished loading data for 20 drivers: ['55', '1', '16', '63', '11', '23', '81', '44', '4', '14', '22', '40', '27', '77', '2', '24', '10', '31', '20', '18']\n"
     ]
    }
   ],
   "source": [
    "# Pick top 5 drivers based on fastest lap using user-provided session parameters\n",
    "# Accepts: year (int), event (str), session_type (str) as per FastF1 documentation\n",
    "\n",
    "def get_user_session(year, event, session_type):\n",
    "    s = fastf1.get_session(year, event, session_type)\n",
    "    s.load()\n",
    "    return s\n",
    "\n",
    "# Example usage: user_session = get_user_session(2023, 'Monza', 'Q')\n",
    "# Replace the arguments below with user input as needed\n",
    "user_session = get_user_session(2023, 'Monza', 'Q')\n",
    "\n",
    "top5_drivers = user_session.laps.pick_quicklaps().sort_values('LapTime')['Driver'].unique()[:5]\n",
    "laps = {driver: user_session.laps.pick_drivers([driver]).pick_fastest() for driver in top5_drivers}"
   ]
  },
  {
   "cell_type": "code",
   "execution_count": 7,
   "id": "4b472f00",
   "metadata": {},
   "outputs": [
    {
     "ename": "TypeError",
     "evalue": "'<' not supported between instances of 'int' and 'str'",
     "output_type": "error",
     "traceback": [
      "\u001b[31m---------------------------------------------------------------------------\u001b[39m",
      "\u001b[31mTypeError\u001b[39m                                 Traceback (most recent call last)",
      "\u001b[36mCell\u001b[39m\u001b[36m \u001b[39m\u001b[32mIn[7]\u001b[39m\u001b[32m, line 34\u001b[39m\n\u001b[32m     32\u001b[39m driver_telemetry = {}\n\u001b[32m     33\u001b[39m \u001b[38;5;28;01mfor\u001b[39;00m driver \u001b[38;5;129;01min\u001b[39;00m top5_drivers:\n\u001b[32m---> \u001b[39m\u001b[32m34\u001b[39m     features, tel = \u001b[43mextract_features\u001b[49m\u001b[43m(\u001b[49m\u001b[43mlaps\u001b[49m\u001b[43m[\u001b[49m\u001b[43mdriver\u001b[49m\u001b[43m]\u001b[49m\u001b[43m)\u001b[49m\n\u001b[32m     35\u001b[39m     driver_features[driver] = features\n\u001b[32m     36\u001b[39m     driver_telemetry[driver] = tel\n",
      "\u001b[36mCell\u001b[39m\u001b[36m \u001b[39m\u001b[32mIn[7]\u001b[39m\u001b[32m, line 12\u001b[39m, in \u001b[36mextract_features\u001b[39m\u001b[34m(lap)\u001b[39m\n\u001b[32m     10\u001b[39m tel[\u001b[33m'\u001b[39m\u001b[33mAggressionIndex\u001b[39m\u001b[33m'\u001b[39m] = (tel[\u001b[33m'\u001b[39m\u001b[33mThrottle\u001b[39m\u001b[33m'\u001b[39m].mean() / (tel[\u001b[33m'\u001b[39m\u001b[33mBrake\u001b[39m\u001b[33m'\u001b[39m].mean() + \u001b[32m1e-6\u001b[39m))\n\u001b[32m     11\u001b[39m \u001b[38;5;66;03m# Add sector info\u001b[39;00m\n\u001b[32m---> \u001b[39m\u001b[32m12\u001b[39m tel[\u001b[33m'\u001b[39m\u001b[33mSector\u001b[39m\u001b[33m'\u001b[39m] = \u001b[43mlap\u001b[49m\u001b[43m.\u001b[49m\u001b[43mloc\u001b[49m\u001b[43m[\u001b[49m\u001b[33;43m'\u001b[39;49m\u001b[33;43mSector1Time\u001b[39;49m\u001b[33;43m'\u001b[39;49m\u001b[43m:\u001b[49m\u001b[43m \u001b[49m\u001b[33;43m'\u001b[39;49m\u001b[33;43mSector3Time\u001b[39;49m\u001b[33;43m'\u001b[39;49m\u001b[43m]\u001b[49m\u001b[43m.\u001b[49m\u001b[43mindex\u001b[49m\u001b[43m.\u001b[49m\u001b[43mget_indexer\u001b[49m\u001b[43m(\u001b[49m\u001b[43mtel\u001b[49m\u001b[43m.\u001b[49m\u001b[43mindex\u001b[49m\u001b[43m,\u001b[49m\u001b[43m \u001b[49m\u001b[43mmethod\u001b[49m\u001b[43m=\u001b[49m\u001b[33;43m'\u001b[39;49m\u001b[33;43mffill\u001b[39;49m\u001b[33;43m'\u001b[39;49m\u001b[43m)\u001b[49m\n\u001b[32m     13\u001b[39m \u001b[38;5;66;03m# Add derived summary stats\u001b[39;00m\n\u001b[32m     14\u001b[39m features = {\n\u001b[32m     15\u001b[39m     \u001b[33m'\u001b[39m\u001b[33mSpeed_mean\u001b[39m\u001b[33m'\u001b[39m: tel[\u001b[33m'\u001b[39m\u001b[33mSpeed\u001b[39m\u001b[33m'\u001b[39m].mean(),\n\u001b[32m     16\u001b[39m     \u001b[33m'\u001b[39m\u001b[33mSpeed_std\u001b[39m\u001b[33m'\u001b[39m: tel[\u001b[33m'\u001b[39m\u001b[33mSpeed\u001b[39m\u001b[33m'\u001b[39m].std(),\n\u001b[32m   (...)\u001b[39m\u001b[32m     27\u001b[39m     \u001b[33m'\u001b[39m\u001b[33mAggressionIndex\u001b[39m\u001b[33m'\u001b[39m: tel[\u001b[33m'\u001b[39m\u001b[33mAggressionIndex\u001b[39m\u001b[33m'\u001b[39m].mean()\n\u001b[32m     28\u001b[39m }\n",
      "\u001b[36mFile \u001b[39m\u001b[32m~/.local/lib/python3.12/site-packages/pandas/core/indexes/base.py:3956\u001b[39m, in \u001b[36mIndex.get_indexer\u001b[39m\u001b[34m(self, target, method, limit, tolerance)\u001b[39m\n\u001b[32m   3954\u001b[39m     this = \u001b[38;5;28mself\u001b[39m.astype(dtype, copy=\u001b[38;5;28;01mFalse\u001b[39;00m)\n\u001b[32m   3955\u001b[39m     target = target.astype(dtype, copy=\u001b[38;5;28;01mFalse\u001b[39;00m)\n\u001b[32m-> \u001b[39m\u001b[32m3956\u001b[39m     \u001b[38;5;28;01mreturn\u001b[39;00m \u001b[43mthis\u001b[49m\u001b[43m.\u001b[49m\u001b[43m_get_indexer\u001b[49m\u001b[43m(\u001b[49m\n\u001b[32m   3957\u001b[39m \u001b[43m        \u001b[49m\u001b[43mtarget\u001b[49m\u001b[43m,\u001b[49m\u001b[43m \u001b[49m\u001b[43mmethod\u001b[49m\u001b[43m=\u001b[49m\u001b[43mmethod\u001b[49m\u001b[43m,\u001b[49m\u001b[43m \u001b[49m\u001b[43mlimit\u001b[49m\u001b[43m=\u001b[49m\u001b[43mlimit\u001b[49m\u001b[43m,\u001b[49m\u001b[43m \u001b[49m\u001b[43mtolerance\u001b[49m\u001b[43m=\u001b[49m\u001b[43mtolerance\u001b[49m\n\u001b[32m   3958\u001b[39m \u001b[43m    \u001b[49m\u001b[43m)\u001b[49m\n\u001b[32m   3960\u001b[39m \u001b[38;5;28;01mreturn\u001b[39;00m \u001b[38;5;28mself\u001b[39m._get_indexer(target, method, limit, tolerance)\n",
      "\u001b[36mFile \u001b[39m\u001b[32m~/.local/lib/python3.12/site-packages/pandas/core/indexes/base.py:3973\u001b[39m, in \u001b[36mIndex._get_indexer\u001b[39m\u001b[34m(self, target, method, limit, tolerance)\u001b[39m\n\u001b[32m   3970\u001b[39m     tolerance = \u001b[38;5;28mself\u001b[39m._convert_tolerance(tolerance, target)\n\u001b[32m   3972\u001b[39m \u001b[38;5;28;01mif\u001b[39;00m method \u001b[38;5;129;01min\u001b[39;00m [\u001b[33m\"\u001b[39m\u001b[33mpad\u001b[39m\u001b[33m\"\u001b[39m, \u001b[33m\"\u001b[39m\u001b[33mbackfill\u001b[39m\u001b[33m\"\u001b[39m]:\n\u001b[32m-> \u001b[39m\u001b[32m3973\u001b[39m     indexer = \u001b[38;5;28;43mself\u001b[39;49m\u001b[43m.\u001b[49m\u001b[43m_get_fill_indexer\u001b[49m\u001b[43m(\u001b[49m\u001b[43mtarget\u001b[49m\u001b[43m,\u001b[49m\u001b[43m \u001b[49m\u001b[43mmethod\u001b[49m\u001b[43m,\u001b[49m\u001b[43m \u001b[49m\u001b[43mlimit\u001b[49m\u001b[43m,\u001b[49m\u001b[43m \u001b[49m\u001b[43mtolerance\u001b[49m\u001b[43m)\u001b[49m\n\u001b[32m   3974\u001b[39m \u001b[38;5;28;01melif\u001b[39;00m method == \u001b[33m\"\u001b[39m\u001b[33mnearest\u001b[39m\u001b[33m\"\u001b[39m:\n\u001b[32m   3975\u001b[39m     indexer = \u001b[38;5;28mself\u001b[39m._get_nearest_indexer(target, limit, tolerance)\n",
      "\u001b[36mFile \u001b[39m\u001b[32m~/.local/lib/python3.12/site-packages/pandas/core/indexes/base.py:4090\u001b[39m, in \u001b[36mIndex._get_fill_indexer\u001b[39m\u001b[34m(self, target, method, limit, tolerance)\u001b[39m\n\u001b[32m   4087\u001b[39m     \u001b[38;5;28;01mraise\u001b[39;00m \u001b[38;5;167;01mNotImplementedError\u001b[39;00m\n\u001b[32m   4089\u001b[39m \u001b[38;5;28;01mif\u001b[39;00m method == \u001b[33m\"\u001b[39m\u001b[33mpad\u001b[39m\u001b[33m\"\u001b[39m:\n\u001b[32m-> \u001b[39m\u001b[32m4090\u001b[39m     indexer = \u001b[43mlibalgos\u001b[49m\u001b[43m.\u001b[49m\u001b[43mpad\u001b[49m\u001b[43m(\u001b[49m\u001b[43mown_values\u001b[49m\u001b[43m,\u001b[49m\u001b[43m \u001b[49m\u001b[43mtarget_values\u001b[49m\u001b[43m,\u001b[49m\u001b[43m \u001b[49m\u001b[43mlimit\u001b[49m\u001b[43m=\u001b[49m\u001b[43mlimit\u001b[49m\u001b[43m)\u001b[49m\n\u001b[32m   4091\u001b[39m \u001b[38;5;28;01melse\u001b[39;00m:\n\u001b[32m   4092\u001b[39m     \u001b[38;5;66;03m# i.e. \"backfill\"\u001b[39;00m\n\u001b[32m   4093\u001b[39m     indexer = libalgos.backfill(own_values, target_values, limit=limit)\n",
      "\u001b[36mFile \u001b[39m\u001b[32mpandas/_libs/algos.pyx:585\u001b[39m, in \u001b[36mpandas._libs.algos.pad\u001b[39m\u001b[34m()\u001b[39m\n",
      "\u001b[31mTypeError\u001b[39m: '<' not supported between instances of 'int' and 'str'"
     ]
    }
   ],
   "source": [
    "# 3. Data Engineering (Car data extraction + derived metrics)\n",
    "def extract_features(lap):\n",
    "    tel = lap.get_car_data().add_distance()\n",
    "    tel['Time_s'] = (tel['Time'] - tel['Time'].iloc[0]).dt.total_seconds()\n",
    "    tel['DeltaSpeed'] = tel['Speed'].diff()\n",
    "    tel['DeltaTime'] = tel['Time_s'].diff()\n",
    "    tel['Acceleration'] = tel['DeltaSpeed'] / tel['DeltaTime']\n",
    "    tel['Throttle_pct'] = tel['Throttle']\n",
    "    tel['Brake_pct'] = tel['Brake']\n",
    "    tel['AggressionIndex'] = (tel['Throttle'].mean() / (tel['Brake'].mean() + 1e-6))\n",
    "    # Add sector info\n",
    "    tel['Sector'] = lap.loc['Sector1Time': 'Sector3Time'].index.get_indexer(tel.index, method='ffill')\n",
    "    # Add derived summary stats\n",
    "    features = {\n",
    "        'Speed_mean': tel['Speed'].mean(),\n",
    "        'Speed_std': tel['Speed'].std(),\n",
    "        'Throttle_mean': tel['Throttle'].mean(),\n",
    "        'Throttle_std': tel['Throttle'].std(),\n",
    "        'Brake_mean': tel['Brake'].mean(),\n",
    "        'Brake_std': tel['Brake'].std(),\n",
    "        'Steer_mean': tel['Steer'].mean(),\n",
    "        'Steer_std': tel['Steer'].std(),\n",
    "        'Gear_mean': tel['nGear'].mean(),\n",
    "        'RPM_mean': tel['RPM'].mean(),\n",
    "        'DRS_pct': tel['DRS'].mean(),\n",
    "        'Acceleration_mean': tel['Acceleration'].mean(),\n",
    "        'AggressionIndex': tel['AggressionIndex'].mean()\n",
    "    }\n",
    "    return features, tel\n",
    "\n",
    "driver_features = {}\n",
    "driver_telemetry = {}\n",
    "for driver in top5_drivers:\n",
    "    features, tel = extract_features(laps[driver])\n",
    "    driver_features[driver] = features\n",
    "    driver_telemetry[driver] = tel\n",
    "\n",
    "features_df = pd.DataFrame(driver_features).T"
   ]
  },
  {
   "cell_type": "code",
   "execution_count": null,
   "id": "33e3575c",
   "metadata": {},
   "outputs": [],
   "source": [
    "# 4. Driving Style Clustering\n",
    "# Normalize features\n",
    "scaler = StandardScaler()\n",
    "X = scaler.fit_transform(features_df)\n",
    "\n",
    "# KMeans clustering\n",
    "kmeans = KMeans(n_clusters=3, random_state=42)\n",
    "clusters = kmeans.fit_predict(X)\n",
    "features_df['Cluster'] = clusters\n",
    "\n",
    "# Cluster labels (example: 0-late brakers, 1-smooth, 2-aggressive)\n",
    "cluster_names = {0: 'Late Braker', 1: 'Smooth', 2: 'Aggressive'}\n",
    "features_df['Style'] = features_df['Cluster'].map(cluster_names)"
   ]
  },
  {
   "cell_type": "code",
   "execution_count": null,
   "id": "e78e4ce4",
   "metadata": {},
   "outputs": [],
   "source": [
    "# 5. Lap Time Prediction Model\n",
    "# Build dataframe for regression: lap time + features\n",
    "lap_time_df = session.laps.pick_drivers(top5_drivers).copy()\n",
    "lap_time_df = lap_time_df.assign(**features_df)\n",
    "regress_features = ['Speed_mean','Throttle_mean','Brake_mean','Steer_mean','Gear_mean','RPM_mean','DRS_pct','Acceleration_mean','AggressionIndex']\n",
    "\n",
    "rf = RandomForestRegressor(n_estimators=100, random_state=42)\n",
    "rf.fit(features_df[regress_features], session.laps.pick_drivers(top5_drivers)['LapTime'].dt.total_seconds().values)\n",
    "lap_time_pred = rf.predict(features_df[regress_features])\n",
    "features_df['LapTime_pred'] = lap_time_pred"
   ]
  },
  {
   "cell_type": "code",
   "execution_count": null,
   "id": "b20b6e13",
   "metadata": {},
   "outputs": [],
   "source": [
    "# 6. Visualization\n",
    "\n",
    "# Subplot: Speed, Throttle, Brake by sector\n",
    "fig, axs = plt.subplots(3, 1, figsize=(12, 10), sharex=True)\n",
    "for driver in top5_drivers:\n",
    "    tel = driver_telemetry[driver]\n",
    "    axs[0].plot(tel['Distance'], tel['Speed'], label=driver)\n",
    "    axs[1].plot(tel['Distance'], tel['Throttle'], label=driver)\n",
    "    axs[2].plot(tel['Distance'], tel['Brake'], label=driver)\n",
    "axs[0].set_ylabel('Speed [km/h]')\n",
    "axs[1].set_ylabel('Throttle [%]')\n",
    "axs[2].set_ylabel('Brake [%]')\n",
    "axs[2].set_xlabel('Distance [m]')\n",
    "axs[0].set_title('Speed Comparison')\n",
    "axs[1].set_title('Throttle Comparison')\n",
    "axs[2].set_title('Brake Comparison')\n",
    "for ax in axs: ax.legend()\n",
    "plt.tight_layout()\n",
    "plt.show()\n",
    "\n",
    "# Radar chart: Each driver's style summary\n",
    "import matplotlib\n",
    "categories = regress_features\n",
    "N = len(categories)\n",
    "angles = np.linspace(0, 2 * np.pi, N, endpoint=False).tolist()\n",
    "angles += angles[:1]\n",
    "fig = plt.figure(figsize=(8, 8))\n",
    "ax = plt.subplot(111, polar=True)\n",
    "for driver in top5_drivers:\n",
    "    values = features_df.loc[driver, regress_features].tolist()\n",
    "    values += values[:1]\n",
    "    ax.plot(angles, values, label=driver)\n",
    "ax.set_thetagrids(np.degrees(angles), categories)\n",
    "plt.title('Driver Style Radar Chart')\n",
    "plt.legend(loc='upper right')\n",
    "plt.show()"
   ]
  },
  {
   "cell_type": "code",
   "execution_count": null,
   "id": "82d1ff8d",
   "metadata": {},
   "outputs": [],
   "source": [
    "# 7. Reporting (Textual)\n",
    "for driver in top5_drivers:\n",
    "    print(f\"Driver: {driver}\")\n",
    "    print(f\"  Lap Time (actual/predicted): {laps[driver]['LapTime']} / {features_df.loc[driver, 'LapTime_pred']:.2f}s\")\n",
    "    print(f\"  Driving Style Cluster: {features_df.loc[driver, 'Style']}\")\n",
    "    print(\"  Feature Summary:\")\n",
    "    print(features_df.loc[driver, regress_features])\n",
    "    print(\"-\" * 50)"
   ]
  },
  {
   "cell_type": "code",
   "execution_count": null,
   "id": "ec756ca1",
   "metadata": {},
   "outputs": [],
   "source": [
    "# To dive deeper:\n",
    "# - Sector gain/loss: Use session.laps.pick_driver(driver)['Sector1Time'], etc.\n",
    "# - Link style to tire wear: requires tire data (session.laps['Compound'])\n",
    "# - Compare car setup: see session.laps['Setup'] if available"
   ]
  }
 ],
 "metadata": {
  "kernelspec": {
   "display_name": "Python 3",
   "language": "python",
   "name": "python3"
  },
  "language_info": {
   "codemirror_mode": {
    "name": "ipython",
    "version": 3
   },
   "file_extension": ".py",
   "mimetype": "text/x-python",
   "name": "python",
   "nbconvert_exporter": "python",
   "pygments_lexer": "ipython3",
   "version": "3.12.1"
  }
 },
 "nbformat": 4,
 "nbformat_minor": 5
}
